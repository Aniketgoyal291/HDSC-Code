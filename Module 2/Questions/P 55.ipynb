{
 "cells": [
  {
   "cell_type": "markdown",
   "metadata": {},
   "source": [
    "# Q.1"
   ]
  },
  {
   "cell_type": "code",
   "execution_count": 5,
   "metadata": {},
   "outputs": [
    {
     "name": "stdout",
     "output_type": "stream",
     "text": [
      "[3, 10, 2]\n",
      "[5 5 5]\n",
      "[5 6 1]\n"
     ]
    }
   ],
   "source": [
    "from random import seed, randint\n",
    "import numpy as np\n",
    "seed(1)\n",
    "python = [randint(1,10),randint(1,10),randint(1,10)]\n",
    "numpy1 = np.random.randint(1,10,3)\n",
    "numpy2 = np.random.randint(1,10,3)\n",
    "print(python)\n",
    "print(numpy1)\n",
    "print(numpy2)"
   ]
  },
  {
   "cell_type": "markdown",
   "metadata": {},
   "source": [
    "As we can see in the result, seeding the numpy random generator does not effect the numpy random generator as the result of numpy's random generator are still different."
   ]
  },
  {
   "cell_type": "markdown",
   "metadata": {},
   "source": [
    "# Q.2"
   ]
  },
  {
   "cell_type": "code",
   "execution_count": 10,
   "metadata": {},
   "outputs": [
    {
     "name": "stdout",
     "output_type": "stream",
     "text": [
      "0.6592148136198245\n",
      "39\n",
      "[0.3890044161673872, 0.6976644344684755, -1.1513987342189846, 0.43909507113500706, 1.240123870623568, -0.028485624983674466, 1.8957484626184458, -1.8120923658246146, 0.10314817894159017, -1.126780495468637, -1.0770869202964841, -0.2843102001962331, -0.6041964940486672, -0.39628787527150033, -0.9764853646109403]\n",
      "-1.0770869202964841\n",
      "[0.43909507113500706, -1.0770869202964841, 0.10314817894159017, -0.9764853646109403]\n",
      "None\n"
     ]
    }
   ],
   "source": [
    "import random\n",
    "A = random.random()\n",
    "B = random.randint(1,39)\n",
    "C = []\n",
    "for i in range(15):\n",
    "    value = random.gauss(0,1)\n",
    "    C.append(value)\n",
    "D = random.choice(C)\n",
    "E = random.sample(C,4)\n",
    "print(A)\n",
    "print(B)\n",
    "print(C)\n",
    "print(D)\n",
    "print(E)"
   ]
  },
  {
   "cell_type": "code",
   "execution_count": 11,
   "metadata": {},
   "outputs": [
    {
     "name": "stdout",
     "output_type": "stream",
     "text": [
      "[0.62133168 0.24058666 0.69918732 0.62670246 0.01339928 0.82721607\n",
      " 0.60172404 0.05649186 0.07262294 0.2698969  0.97410491 0.61722756\n",
      " 0.55551481 0.85087852 0.87698148]\n",
      "[ 5  4 12 14  4  5  6  9  3 11 10 14 11  5  7  2  9  4 11 12  3  3]\n",
      "[ 1.03914122 -0.56993111 -0.25295755 -1.7194777  -1.0463206 ]\n"
     ]
    }
   ],
   "source": [
    "import numpy.random as random\n",
    "A = random.rand(15)\n",
    "B = random.randint(1,15,22)\n",
    "C = random.randn(5)\n",
    "print(A)\n",
    "print(B)\n",
    "print(C)"
   ]
  }
 ],
 "metadata": {
  "kernelspec": {
   "display_name": "Python 3",
   "language": "python",
   "name": "python3"
  },
  "language_info": {
   "codemirror_mode": {
    "name": "ipython",
    "version": 3
   },
   "file_extension": ".py",
   "mimetype": "text/x-python",
   "name": "python",
   "nbconvert_exporter": "python",
   "pygments_lexer": "ipython3",
   "version": "3.9.2"
  }
 },
 "nbformat": 4,
 "nbformat_minor": 4
}

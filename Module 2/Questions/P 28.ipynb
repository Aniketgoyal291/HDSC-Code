{
 "cells": [
  {
   "cell_type": "markdown",
   "metadata": {},
   "source": [
    "# Q.1"
   ]
  },
  {
   "cell_type": "code",
   "execution_count": 13,
   "metadata": {},
   "outputs": [
    {
     "data": {
      "image/png": "[encoded data removed]",
      "text/plain": [
       "<Figure size 432x288 with 1 Axes>"
      ]
     },
     "metadata": {
      "needs_background": "light"
     },
     "output_type": "display_data"
    },
    {
     "name": "stdout",
     "output_type": "stream",
     "text": [
      "Mean and Variance of the data are: 39.989778848232284 9.071686243656254\n"
     ]
    }
   ],
   "source": [
    "import numpy as np\n",
    "from numpy.random import seed, randn\n",
    "seed(2)\n",
    "data = 3*randn(30000) + 40\n",
    "pyplot.hist(data,bins = 100)\n",
    "pyplot.show()\n",
    "mean = np.mean(data)\n",
    "variance = np.var(data)\n",
    "print('Mean and Variance of the data are:',mean,variance)"
   ]
  },
  {
   "cell_type": "markdown",
   "metadata": {},
   "source": [
    "# Q.2\n"
   ]
  },
  {
   "cell_type": "code",
   "execution_count": 16,
   "metadata": {},
   "outputs": [
    {
     "name": "stdout",
     "output_type": "stream",
     "text": [
      "Mean of the data is: 39.989778848232284\n",
      "Median of the data is: 39.994058714312445\n",
      "Variance of the data is: 9.071686243656254\n",
      "Standard Deviation of the data is: 3.0119240102725455\n"
     ]
    }
   ],
   "source": [
    "import numpy as np\n",
    "def summary(data):\n",
    "    mean = np.mean(data)\n",
    "    median = np.median(data)\n",
    "    variance = np.var(data)\n",
    "    standard_deviation = np.std(data)\n",
    "    print('Mean of the data is:', mean)\n",
    "    print('Median of the data is:', median)\n",
    "    print('Variance of the data is:', variance)\n",
    "    print('Standard Deviation of the data is:', standard_deviation)\n",
    "summary(data)"
   ]
  }
 ],
 "metadata": {
  "kernelspec": {
   "display_name": "Python 3",
   "language": "python",
   "name": "python3"
  },
  "language_info": {
   "codemirror_mode": {
    "name": "ipython",
    "version": 3
   },
   "file_extension": ".py",
   "mimetype": "text/x-python",
   "name": "python",
   "nbconvert_exporter": "python",
   "pygments_lexer": "ipython3",
   "version": "3.9.2"
  }
 },
 "nbformat": 4,
 "nbformat_minor": 4
}

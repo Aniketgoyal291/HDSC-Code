{
 "cells": [
  {
   "cell_type": "code",
   "execution_count": 17,
   "id": "5969a894",
   "metadata": {},
   "outputs": [
    {
     "data": {
      "text/plain": [
       "19.0"
      ]
     },
     "execution_count": 17,
     "metadata": {},
     "output_type": "execute_result"
    }
   ],
   "source": [
    "import numpy as np\n",
    "A = np.array([2,42,1,61,7,1])\n",
    "m = np.mean(A)\n",
    "m"
   ]
  },
  {
   "cell_type": "code",
   "execution_count": 19,
   "id": "68783cb0",
   "metadata": {},
   "outputs": [
    {
     "name": "stdout",
     "output_type": "stream",
     "text": [
      "7.214285714285714\n"
     ]
    }
   ],
   "source": [
    "M = np.array([[2,3,51,6,4,6,4],[3,1,6,2,2,4,7]])\n",
    "m1 = np.mean(M)\n",
    "print(m1)"
   ]
  },
  {
   "cell_type": "code",
   "execution_count": 20,
   "id": "6428e890",
   "metadata": {},
   "outputs": [
    {
     "data": {
      "text/plain": [
       "674.8"
      ]
     },
     "execution_count": 20,
     "metadata": {},
     "output_type": "execute_result"
    }
   ],
   "source": [
    "var = np.var(A,ddof = 1)\n",
    "var"
   ]
  },
  {
   "cell_type": "code",
   "execution_count": 23,
   "id": "612dec45",
   "metadata": {},
   "outputs": [
    {
     "name": "stdout",
     "output_type": "stream",
     "text": [
      "[5.0000e-01 2.0000e+00 1.0125e+03 8.0000e+00 2.0000e+00 2.0000e+00\n",
      " 4.5000e+00]\n",
      "[315.47619048   4.95238095]\n"
     ]
    }
   ],
   "source": [
    "col_var = np.var(M,ddof = 1, axis = 0)\n",
    "row_var = np.var(M,ddof = 1, axis = 1)\n",
    "print(col_var)\n",
    "print(row_var)"
   ]
  },
  {
   "cell_type": "code",
   "execution_count": 24,
   "id": "b99ed243",
   "metadata": {},
   "outputs": [
    {
     "name": "stdout",
     "output_type": "stream",
     "text": [
      "[ 0.70710678  1.41421356 31.81980515  2.82842712  1.41421356  1.41421356\n",
      "  2.12132034]\n",
      "[17.76164943  2.22539456]\n"
     ]
    }
   ],
   "source": [
    "col_std = np.std(M,ddof = 1,axis = 0)\n",
    "row_std = np.std(M,ddof = 1,axis = 1)\n",
    "print(col_std)\n",
    "print(row_std)"
   ]
  },
  {
   "cell_type": "code",
   "execution_count": 26,
   "id": "56a8d312",
   "metadata": {},
   "outputs": [
    {
     "name": "stdout",
     "output_type": "stream",
     "text": [
      "179.78571428571425\n"
     ]
    }
   ],
   "source": [
    "x = np.array([1,51,61,6,4,23,65])\n",
    "y = np.array([4,62,1,1,6,61,14])\n",
    "cov = np.cov(x,y)[0,1]\n",
    "print(cov)"
   ]
  },
  {
   "cell_type": "code",
   "execution_count": 28,
   "id": "68075a36",
   "metadata": {},
   "outputs": [
    {
     "data": {
      "text/plain": [
       "0.22923445211505905"
      ]
     },
     "execution_count": 28,
     "metadata": {},
     "output_type": "execute_result"
    }
   ],
   "source": [
    "corr = np.corrcoef(x,y)[0,1]\n",
    "corr"
   ]
  },
  {
   "cell_type": "code",
   "execution_count": null,
   "id": "e410619f",
   "metadata": {},
   "outputs": [],
   "source": []
  }
 ],
 "metadata": {
  "kernelspec": {
   "display_name": "Python 3",
   "language": "python",
   "name": "python3"
  },
  "language_info": {
   "codemirror_mode": {
    "name": "ipython",
    "version": 3
   },
   "file_extension": ".py",
   "mimetype": "text/x-python",
   "name": "python",
   "nbconvert_exporter": "python",
   "pygments_lexer": "ipython3",
   "version": "3.8.8"
  }
 },
 "nbformat": 4,
 "nbformat_minor": 5
}

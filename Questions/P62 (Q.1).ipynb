{
 "cells": [
  {
   "cell_type": "code",
   "execution_count": 10,
   "id": "139d6b36",
   "metadata": {},
   "outputs": [
    {
     "name": "stdout",
     "output_type": "stream",
     "text": [
      "[[1 0 0 3 0 2]\n",
      " [2 0 0 0 5 0]\n",
      " [0 0 2 0 4 0]]\n",
      "  (0, 0)\t1\n",
      "  (0, 3)\t3\n",
      "  (0, 5)\t2\n",
      "  (1, 0)\t2\n",
      "  (1, 4)\t5\n",
      "  (2, 2)\t2\n",
      "  (2, 4)\t4\n",
      "0.6111111111111112\n"
     ]
    }
   ],
   "source": [
    "import numpy as np\n",
    "import scipy\n",
    "A = np.array([[1,0,0,3,0,2],\n",
    "             [2,0,0,0,5,0],\n",
    "             [0,0,2,0,4,0]])\n",
    "print(A)\n",
    "S = scipy.sparse.csr_matrix(A)\n",
    "print(S)\n",
    "sparcity = 1.0 - np.count_nonzero(A)/A.size\n",
    "print(sparcity)"
   ]
  },
  {
   "cell_type": "code",
   "execution_count": null,
   "id": "6efeedc0",
   "metadata": {},
   "outputs": [],
   "source": []
  }
 ],
 "metadata": {
  "kernelspec": {
   "display_name": "Python 3",
   "language": "python",
   "name": "python3"
  },
  "language_info": {
   "codemirror_mode": {
    "name": "ipython",
    "version": 3
   },
   "file_extension": ".py",
   "mimetype": "text/x-python",
   "name": "python",
   "nbconvert_exporter": "python",
   "pygments_lexer": "ipython3",
   "version": "3.8.8"
  }
 },
 "nbformat": 4,
 "nbformat_minor": 5
}

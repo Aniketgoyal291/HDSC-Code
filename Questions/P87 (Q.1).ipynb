{
 "cells": [
  {
   "cell_type": "markdown",
   "id": "e82f225b",
   "metadata": {},
   "source": [
    "# SVD and reconstruction"
   ]
  },
  {
   "cell_type": "code",
   "execution_count": 9,
   "id": "996705b8",
   "metadata": {},
   "outputs": [
    {
     "name": "stdout",
     "output_type": "stream",
     "text": [
      "[[  1.   4.   4.   3.  62.  61. 671.]\n",
      " [ 13.   6.  71.  71.   1.   2.  72.]]\n"
     ]
    }
   ],
   "source": [
    "import numpy as np\n",
    "import scipy as sp\n",
    "A = np.array([[1,4,4,3,62,61,671],[13,6,71,71,1,2,72]])\n",
    "U,S,VT = sp.linalg.svd(A)\n",
    "sigma = np.zeros([A.shape[0],A.shape[1]])\n",
    "sigma[:A.sshape[0],:A.shape[0]] = np.diag(S)\n",
    "B = U.dot(sigma.dot(VT))\n",
    "print(B)"
   ]
  },
  {
   "cell_type": "markdown",
   "id": "41e51aa8",
   "metadata": {},
   "source": [
    "# Pseudoinverse"
   ]
  },
  {
   "cell_type": "code",
   "execution_count": 11,
   "id": "934e0f96",
   "metadata": {},
   "outputs": [
    {
     "name": "stdout",
     "output_type": "stream",
     "text": [
      "[[-1.32838935e-04  1.26086153e-03]\n",
      " [-4.96134456e-05  5.44878989e-04]\n",
      " [-7.30336252e-04  6.90154991e-03]\n",
      " [-7.33641878e-04  6.91202257e-03]\n",
      " [ 1.94476180e-04 -5.51509893e-04]\n",
      " [ 1.80697895e-04 -4.43242297e-04]\n",
      " [ 1.46404392e-03  1.40815927e-05]]\n"
     ]
    }
   ],
   "source": [
    "d = 1.0/S\n",
    "D = np.zeros(A.shape)\n",
    "D[:A.shape[0],:A.shape[0]] = np.diag(d)\n",
    "E = VT.T.dot(D.T).dot(U.T)\n",
    "print(E)"
   ]
  },
  {
   "cell_type": "markdown",
   "id": "b938a7e5",
   "metadata": {},
   "source": [
    "# Dimensionality reduction"
   ]
  },
  {
   "cell_type": "code",
   "execution_count": 17,
   "id": "a789bb54",
   "metadata": {},
   "outputs": [
    {
     "name": "stdout",
     "output_type": "stream",
     "text": [
      "[[676.55616139 -10.94351367   0.        ]\n",
      " [ 74.08645938  99.93596218   0.        ]]\n"
     ]
    }
   ],
   "source": [
    "n_elements = 3\n",
    "sigma = sigma[:,:n_elements]\n",
    "VT = VT[:,:n_elements]\n",
    "B = U.dot(sigma.dot(VT.T))\n",
    "T = U.dot(sigma)\n",
    "print(T)"
   ]
  },
  {
   "cell_type": "markdown",
   "id": "e6250a68",
   "metadata": {},
   "source": [
    "# Data reduction via svd in scikit learn"
   ]
  },
  {
   "cell_type": "code",
   "execution_count": 19,
   "id": "f80eb10b",
   "metadata": {},
   "outputs": [
    {
     "name": "stdout",
     "output_type": "stream",
     "text": [
      "[[676.55616139 -10.94351367]\n",
      " [ 74.08645938  99.93596218]]\n"
     ]
    }
   ],
   "source": [
    "from sklearn.decomposition import TruncatedSVD\n",
    "svd = TruncatedSVD(n_components = 3)\n",
    "svd.fit(A)\n",
    "result = svd.transform(A)\n",
    "print(result)"
   ]
  },
  {
   "cell_type": "code",
   "execution_count": null,
   "id": "85a48802",
   "metadata": {},
   "outputs": [],
   "source": []
  }
 ],
 "metadata": {
  "kernelspec": {
   "display_name": "Python 3",
   "language": "python",
   "name": "python3"
  },
  "language_info": {
   "codemirror_mode": {
    "name": "ipython",
    "version": 3
   },
   "file_extension": ".py",
   "mimetype": "text/x-python",
   "name": "python",
   "nbconvert_exporter": "python",
   "pygments_lexer": "ipython3",
   "version": "3.8.8"
  }
 },
 "nbformat": 4,
 "nbformat_minor": 5
}

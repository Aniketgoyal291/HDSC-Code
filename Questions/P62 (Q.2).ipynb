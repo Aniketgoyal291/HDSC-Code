{
 "cells": [
  {
   "cell_type": "code",
   "execution_count": 10,
   "id": "4429ed47",
   "metadata": {},
   "outputs": [
    {
     "name": "stdout",
     "output_type": "stream",
     "text": [
      "[[1 0 0 0 2 0]\n",
      " [5 0 0 0 0 2]\n",
      " [0 0 3 0 0 0]]\n",
      "  (0, 0)\t1\n",
      "  (0, 4)\t2\n",
      "  (1, 0)\t5\n",
      "  (1, 5)\t2\n",
      "  (2, 2)\t3\n"
     ]
    }
   ],
   "source": [
    "import numpy as np\n",
    "from scipy import sparse\n",
    "A = np.array([[1,0,0,0,2,0],\n",
    "             [5,0,0,0,0,2],\n",
    "             [0,0,3,0,0,0]])\n",
    "print(A)\n",
    "A_csr = sparse.csr_matrix(A)\n",
    "print(A_csr)"
   ]
  },
  {
   "cell_type": "code",
   "execution_count": 11,
   "id": "8520cdda",
   "metadata": {},
   "outputs": [
    {
     "name": "stdout",
     "output_type": "stream",
     "text": [
      "[[1 0 0 0 2 0]\n",
      " [5 0 0 0 0 2]\n",
      " [0 0 3 0 0 0]]\n"
     ]
    }
   ],
   "source": [
    "print(A_csr.toarray())\n"
   ]
  },
  {
   "cell_type": "code",
   "execution_count": null,
   "id": "79c3192b",
   "metadata": {},
   "outputs": [],
   "source": []
  }
 ],
 "metadata": {
  "kernelspec": {
   "display_name": "Python 3",
   "language": "python",
   "name": "python3"
  },
  "language_info": {
   "codemirror_mode": {
    "name": "ipython",
    "version": 3
   },
   "file_extension": ".py",
   "mimetype": "text/x-python",
   "name": "python",
   "nbconvert_exporter": "python",
   "pygments_lexer": "ipython3",
   "version": "3.8.8"
  }
 },
 "nbformat": 4,
 "nbformat_minor": 5
}

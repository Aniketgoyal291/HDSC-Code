{
 "cells": [
  {
   "cell_type": "markdown",
   "id": "2572c656",
   "metadata": {},
   "source": [
    "## Addition"
   ]
  },
  {
   "cell_type": "code",
   "execution_count": 1,
   "id": "350e987d",
   "metadata": {},
   "outputs": [
    {
     "name": "stdout",
     "output_type": "stream",
     "text": [
      "[[[ 2.  4.  6.]\n",
      "  [ 8. 10. 12.]\n",
      "  [14. 16. 18.]]\n",
      "\n",
      " [[22. 24. 26.]\n",
      "  [28. 30. 32.]\n",
      "  [34. 36. 38.]]\n",
      "\n",
      " [[42. 44. 46.]\n",
      "  [48. 50. 52.]\n",
      "  [54. 56. 58.]]]\n"
     ]
    }
   ],
   "source": [
    "import numpy as np\n",
    "def addition(A,B):\n",
    "    C = np.zeros(A.shape)\n",
    "    a = A.shape[0]\n",
    "    b = A.shape[1]\n",
    "    c = A.shape[2]\n",
    "    for i in range(a):\n",
    "        for j in range(b):\n",
    "            for k in range(c):\n",
    "                C[i,j,k] = A[i,j,k] + B[i,j,k]\n",
    "    print(C)\n",
    "A = np.array([\n",
    "  [[1,2,3],    [4,5,6],    [7,8,9]],\n",
    "  [[11,12,13], [14,15,16], [17,18,19]],\n",
    "  [[21,22,23], [24,25,26], [27,28,29]],\n",
    "  ])\n",
    "B = np.array([\n",
    "  [[1,2,3],    [4,5,6],    [7,8,9]],\n",
    "  [[11,12,13], [14,15,16], [17,18,19]],\n",
    "  [[21,22,23], [24,25,26], [27,28,29]],\n",
    "  ])\n",
    "addition(A,B)"
   ]
  },
  {
   "cell_type": "markdown",
   "id": "e683789d",
   "metadata": {},
   "source": [
    "## Subtraction"
   ]
  },
  {
   "cell_type": "code",
   "execution_count": 2,
   "id": "32406959",
   "metadata": {},
   "outputs": [
    {
     "name": "stdout",
     "output_type": "stream",
     "text": [
      "[[[0. 0. 0.]\n",
      "  [0. 0. 0.]\n",
      "  [0. 0. 0.]]\n",
      "\n",
      " [[0. 0. 0.]\n",
      "  [0. 0. 0.]\n",
      "  [0. 0. 0.]]\n",
      "\n",
      " [[0. 0. 0.]\n",
      "  [0. 0. 0.]\n",
      "  [0. 0. 0.]]]\n"
     ]
    }
   ],
   "source": [
    "def subtraction(A,B):\n",
    "    C = np.zeros(A.shape)\n",
    "    a = A.shape[0]\n",
    "    b = A.shape[1]\n",
    "    c = A.shape[2]\n",
    "    for i in range(a):\n",
    "        for j in range(b):\n",
    "            for k in range(c):\n",
    "                C[i,j,k] = A[i,j,k] - B[i,j,k]\n",
    "    print(C)\n",
    "A = np.array([\n",
    "  [[1,2,3],    [4,5,6],    [7,8,9]],\n",
    "  [[11,12,13], [14,15,16], [17,18,19]],\n",
    "  [[21,22,23], [24,25,26], [27,28,29]],\n",
    "  ])\n",
    "B = np.array([\n",
    "  [[1,2,3],    [4,5,6],    [7,8,9]],\n",
    "  [[11,12,13], [14,15,16], [17,18,19]],\n",
    "  [[21,22,23], [24,25,26], [27,28,29]],\n",
    "  ])\n",
    "subtraction(A,B)"
   ]
  },
  {
   "cell_type": "markdown",
   "id": "9128dd8a",
   "metadata": {},
   "source": [
    "## Multiplication"
   ]
  },
  {
   "cell_type": "code",
   "execution_count": 3,
   "id": "2bf4606b",
   "metadata": {},
   "outputs": [
    {
     "name": "stdout",
     "output_type": "stream",
     "text": [
      "[[[  1.   4.   9.]\n",
      "  [ 16.  25.  36.]\n",
      "  [ 49.  64.  81.]]\n",
      "\n",
      " [[121. 144. 169.]\n",
      "  [196. 225. 256.]\n",
      "  [289. 324. 361.]]\n",
      "\n",
      " [[441. 484. 529.]\n",
      "  [576. 625. 676.]\n",
      "  [729. 784. 841.]]]\n"
     ]
    }
   ],
   "source": [
    "def multiplication(A,B):\n",
    "    C = np.zeros(A.shape)\n",
    "    a = A.shape[0]\n",
    "    b = A.shape[1]\n",
    "    c = A.shape[2]\n",
    "    for i in range(a):\n",
    "        for j in range(b):\n",
    "            for k in range(c):\n",
    "                C[i,j,k] = A[i,j,k] * B[i,j,k]\n",
    "    print(C)\n",
    "A = np.array([\n",
    "  [[1,2,3],    [4,5,6],    [7,8,9]],\n",
    "  [[11,12,13], [14,15,16], [17,18,19]],\n",
    "  [[21,22,23], [24,25,26], [27,28,29]],\n",
    "  ])\n",
    "B = np.array([\n",
    "  [[1,2,3],    [4,5,6],    [7,8,9]],\n",
    "  [[11,12,13], [14,15,16], [17,18,19]],\n",
    "  [[21,22,23], [24,25,26], [27,28,29]],\n",
    "  ])\n",
    "multiplication(A,B)"
   ]
  },
  {
   "cell_type": "markdown",
   "id": "859d683f",
   "metadata": {},
   "source": [
    "## Division"
   ]
  },
  {
   "cell_type": "code",
   "execution_count": 4,
   "id": "4331ad79",
   "metadata": {},
   "outputs": [
    {
     "name": "stdout",
     "output_type": "stream",
     "text": [
      "[[[1. 1. 1.]\n",
      "  [1. 1. 1.]\n",
      "  [1. 1. 1.]]\n",
      "\n",
      " [[1. 1. 1.]\n",
      "  [1. 1. 1.]\n",
      "  [1. 1. 1.]]\n",
      "\n",
      " [[1. 1. 1.]\n",
      "  [1. 1. 1.]\n",
      "  [1. 1. 1.]]]\n"
     ]
    }
   ],
   "source": [
    "def division(A,B):\n",
    "    C = np.zeros(A.shape)\n",
    "    a = A.shape[0]\n",
    "    b = A.shape[1]\n",
    "    c = A.shape[2]\n",
    "    for i in range(a):\n",
    "        for j in range(b):\n",
    "            for k in range(c):\n",
    "                C[i,j,k] = A[i,j,k] / B[i,j,k]\n",
    "    print(C)\n",
    "A = np.array([\n",
    "  [[1,2,3],    [4,5,6],    [7,8,9]],\n",
    "  [[11,12,13], [14,15,16], [17,18,19]],\n",
    "  [[21,22,23], [24,25,26], [27,28,29]],\n",
    "  ])\n",
    "B = np.array([\n",
    "  [[1,2,3],    [4,5,6],    [7,8,9]],\n",
    "  [[11,12,13], [14,15,16], [17,18,19]],\n",
    "  [[21,22,23], [24,25,26], [27,28,29]],\n",
    "  ])\n",
    "division(A,B)"
   ]
  }
 ],
 "metadata": {
  "kernelspec": {
   "display_name": "Python 3",
   "language": "python",
   "name": "python3"
  },
  "language_info": {
   "codemirror_mode": {
    "name": "ipython",
    "version": 3
   },
   "file_extension": ".py",
   "mimetype": "text/x-python",
   "name": "python",
   "nbconvert_exporter": "python",
   "pygments_lexer": "ipython3",
   "version": "3.8.8"
  }
 },
 "nbformat": 4,
 "nbformat_minor": 5
}

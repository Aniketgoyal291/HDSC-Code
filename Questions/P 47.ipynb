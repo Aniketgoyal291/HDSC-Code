{
 "cells": [
  {
   "cell_type": "code",
   "execution_count": 1,
   "id": "e3a81882",
   "metadata": {},
   "outputs": [
    {
     "name": "stdout",
     "output_type": "stream",
     "text": [
      "[[ 2  5  8]\n",
      " [19 66 12]\n",
      " [23 12 21]]\n"
     ]
    }
   ],
   "source": [
    "import numpy as np \n",
    "A = np.array([[1,2,3],[4,5,6],[7,8,9]])\n",
    "B = np.array([[1,3,5],[15,61,6],[16,4,12]])\n",
    "C = A+B\n",
    "print(C)"
   ]
  },
  {
   "cell_type": "code",
   "execution_count": 3,
   "id": "ec693111",
   "metadata": {},
   "outputs": [
    {
     "name": "stdout",
     "output_type": "stream",
     "text": [
      "[[  0  -1  -2]\n",
      " [-11 -56   0]\n",
      " [ -9   4  -3]]\n"
     ]
    }
   ],
   "source": [
    "D = A-B\n",
    "print(D)"
   ]
  },
  {
   "cell_type": "code",
   "execution_count": 4,
   "id": "df591bee",
   "metadata": {},
   "outputs": [
    {
     "name": "stdout",
     "output_type": "stream",
     "text": [
      "[[  1   6  15]\n",
      " [ 60 305  36]\n",
      " [112  32 108]]\n"
     ]
    }
   ],
   "source": [
    "E = A*B\n",
    "print(E)"
   ]
  },
  {
   "cell_type": "code",
   "execution_count": 5,
   "id": "26f6d0e6",
   "metadata": {},
   "outputs": [
    {
     "name": "stdout",
     "output_type": "stream",
     "text": [
      "[[1.         0.66666667 0.6       ]\n",
      " [0.26666667 0.08196721 1.        ]\n",
      " [0.4375     2.         0.75      ]]\n"
     ]
    }
   ],
   "source": [
    "F = A/B\n",
    "print(F)"
   ]
  },
  {
   "cell_type": "code",
   "execution_count": 6,
   "id": "40d69d73",
   "metadata": {},
   "outputs": [
    {
     "name": "stdout",
     "output_type": "stream",
     "text": [
      "[112 229 346]\n"
     ]
    }
   ],
   "source": [
    "X = np.array([1,3,35])\n",
    "G = A@X\n",
    "print(G)"
   ]
  },
  {
   "cell_type": "code",
   "execution_count": 7,
   "id": "a9c4419d",
   "metadata": {},
   "outputs": [
    {
     "name": "stdout",
     "output_type": "stream",
     "text": [
      "[[ 12  24  36]\n",
      " [ 48  60  72]\n",
      " [ 84  96 108]]\n"
     ]
    }
   ],
   "source": [
    "b = 12\n",
    "H = A*b\n",
    "print(H)"
   ]
  }
 ],
 "metadata": {
  "kernelspec": {
   "display_name": "Python 3",
   "language": "python",
   "name": "python3"
  },
  "language_info": {
   "codemirror_mode": {
    "name": "ipython",
    "version": 3
   },
   "file_extension": ".py",
   "mimetype": "text/x-python",
   "name": "python",
   "nbconvert_exporter": "python",
   "pygments_lexer": "ipython3",
   "version": "3.8.8"
  }
 },
 "nbformat": 4,
 "nbformat_minor": 5
}

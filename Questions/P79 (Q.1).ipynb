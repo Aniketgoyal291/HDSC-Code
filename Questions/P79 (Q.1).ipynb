{
 "cells": [
  {
   "cell_type": "code",
   "execution_count": 7,
   "id": "17dfdc17",
   "metadata": {},
   "outputs": [
    {
     "name": "stdout",
     "output_type": "stream",
     "text": [
      "[10.33030413+0.j         -0.66515207+1.14018376j -0.66515207-1.14018376j] [[ 0.41592652+0.j          0.77150304+0.j          0.77150304-0.j        ]\n",
      " [ 0.65448449+0.j         -0.0470405 +0.28844611j -0.0470405 -0.28844611j]\n",
      " [ 0.63139147+0.j         -0.54825394-0.13706459j -0.54825394+0.13706459j]]\n"
     ]
    }
   ],
   "source": [
    "import numpy as np\n",
    "A = np.array([[1,4,2],[4,2,6],[5,1,6]])\n",
    "values, vectors = np.linalg.eig(A)\n",
    "print(values, vectors)"
   ]
  },
  {
   "cell_type": "code",
   "execution_count": 8,
   "id": "f7c066e9",
   "metadata": {},
   "outputs": [
    {
     "name": "stdout",
     "output_type": "stream",
     "text": [
      "[4.29664741+0.j 6.76102385+0.j 6.52246587+0.j] [4.29664741+0.j 6.76102385+0.j 6.52246587+0.j]\n"
     ]
    }
   ],
   "source": [
    "B = A.dot(vectors[:,0])\n",
    "C = vectors[:,0] * values[0]\n",
    "print(B,C)"
   ]
  },
  {
   "cell_type": "code",
   "execution_count": 11,
   "id": "c02042b7",
   "metadata": {},
   "outputs": [
    {
     "name": "stdout",
     "output_type": "stream",
     "text": [
      "[[1.-1.92236183e-17j 4.+1.31524688e-17j 2.+1.23195857e-16j]\n",
      " [4.-1.50146270e-16j 2.+2.20340109e-17j 6.+3.23726550e-16j]\n",
      " [5.-1.59247321e-16j 1.+9.59384480e-18j 6.+2.83408302e-16j]]\n"
     ]
    }
   ],
   "source": [
    "R = np.linalg.inv(vectors)\n",
    "L = np.diag(values)\n",
    "D = vectors.dot(L).dot(R)\n",
    "print(D)"
   ]
  },
  {
   "cell_type": "code",
   "execution_count": null,
   "id": "6105706a",
   "metadata": {},
   "outputs": [],
   "source": []
  }
 ],
 "metadata": {
  "kernelspec": {
   "display_name": "Python 3",
   "language": "python",
   "name": "python3"
  },
  "language_info": {
   "codemirror_mode": {
    "name": "ipython",
    "version": 3
   },
   "file_extension": ".py",
   "mimetype": "text/x-python",
   "name": "python",
   "nbconvert_exporter": "python",
   "pygments_lexer": "ipython3",
   "version": "3.8.8"
  }
 },
 "nbformat": 4,
 "nbformat_minor": 5
}

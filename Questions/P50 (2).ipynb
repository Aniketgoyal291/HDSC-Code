{
 "cells": [
  {
   "cell_type": "markdown",
   "id": "efd084e4",
   "metadata": {},
   "source": [
    "## Triangular."
   ]
  },
  {
   "cell_type": "code",
   "execution_count": 1,
   "id": "cc7f8510",
   "metadata": {},
   "outputs": [
    {
     "name": "stdout",
     "output_type": "stream",
     "text": [
      "[[1 0 0]\n",
      " [4 5 0]\n",
      " [7 8 9]]\n"
     ]
    }
   ],
   "source": [
    "import numpy as np\n",
    "def lower(A):\n",
    "    a = A.shape[0]-1\n",
    "    for i in range(a+1):\n",
    "        for j in range(a+1):\n",
    "            if i>j:\n",
    "                A[j,i] = 0\n",
    "A = np.array([[1,2,3],[4,5,6],[7,8,9]])\n",
    "lower(A)\n",
    "print(A)"
   ]
  },
  {
   "cell_type": "code",
   "execution_count": 2,
   "id": "303ffe8d",
   "metadata": {},
   "outputs": [
    {
     "name": "stdout",
     "output_type": "stream",
     "text": [
      "[[1 2 3]\n",
      " [0 5 6]\n",
      " [0 0 9]]\n"
     ]
    }
   ],
   "source": [
    "def upper(A):\n",
    "    a = A.shape[0]-1\n",
    "    for i in range(a+1):\n",
    "        for j in range(a+1):\n",
    "            if j>i:\n",
    "                A[j,i] = 0\n",
    "A = np.array([[1,2,3],[4,5,6],[7,8,9]])\n",
    "upper(A)\n",
    "print(A)"
   ]
  },
  {
   "cell_type": "markdown",
   "id": "6befe80d",
   "metadata": {},
   "source": [
    "## Diagonal"
   ]
  },
  {
   "cell_type": "code",
   "execution_count": 3,
   "id": "edb2cc04",
   "metadata": {},
   "outputs": [
    {
     "name": "stdout",
     "output_type": "stream",
     "text": [
      "[[1 0 0]\n",
      " [0 5 0]\n",
      " [0 0 9]]\n"
     ]
    }
   ],
   "source": [
    "def diag(A):\n",
    "    a = A.shape[0]-1\n",
    "    for i in range(a+1):\n",
    "        for j in range(a+1):\n",
    "            if i != j:\n",
    "                A[i,j] = 0\n",
    "A = np.array([[1,2,3],[4,5,6],[7,8,9]])\n",
    "diag(A)\n",
    "print(A)"
   ]
  },
  {
   "cell_type": "markdown",
   "id": "94bef797",
   "metadata": {},
   "source": [
    "## Identity"
   ]
  },
  {
   "cell_type": "code",
   "execution_count": 4,
   "id": "f79b9982",
   "metadata": {},
   "outputs": [
    {
     "name": "stdout",
     "output_type": "stream",
     "text": [
      "[[1 0 0 0]\n",
      " [0 1 0 0]\n",
      " [0 0 1 0]\n",
      " [0 0 0 1]]\n"
     ]
    }
   ],
   "source": [
    "def identity(a):\n",
    "    A = np.arange(a*a).reshape(a,a)\n",
    "    for i in range(a):\n",
    "        for j in range(a):\n",
    "            if i == j:\n",
    "                A[i,j] = 1\n",
    "            else:\n",
    "                A[i,j] = 0\n",
    "    print(A)\n",
    "identity(4)"
   ]
  },
  {
   "cell_type": "code",
   "execution_count": null,
   "id": "52b872c3",
   "metadata": {},
   "outputs": [],
   "source": []
  }
 ],
 "metadata": {
  "kernelspec": {
   "display_name": "Python 3",
   "language": "python",
   "name": "python3"
  },
  "language_info": {
   "codemirror_mode": {
    "name": "ipython",
    "version": 3
   },
   "file_extension": ".py",
   "mimetype": "text/x-python",
   "name": "python",
   "nbconvert_exporter": "python",
   "pygments_lexer": "ipython3",
   "version": "3.8.8"
  }
 },
 "nbformat": 4,
 "nbformat_minor": 5
}

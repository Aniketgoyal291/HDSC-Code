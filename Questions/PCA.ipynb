{
 "cells": [
  {
   "cell_type": "code",
   "execution_count": 16,
   "id": "e0cd6619",
   "metadata": {},
   "outputs": [
    {
     "name": "stdout",
     "output_type": "stream",
     "text": [
      "[[ 16.63993502 -19.86431435  26.46108397]\n",
      " [-30.1256452   10.72002099  -8.23842008]\n",
      " [ -9.03095031   6.25754201  -7.25300878]]\n"
     ]
    }
   ],
   "source": [
    "import numpy as np \n",
    "A = np.array([[11,34,22],[14,15,51],[56,1,61]])\n",
    "M = np.mean(A.T, axis = 1)\n",
    "C = A-M\n",
    "V = np.cov(C)\n",
    "values, vectors = np.linalg.eig(V)\n",
    "P = vectors.dot(C)\n",
    "print(P)"
   ]
  },
  {
   "cell_type": "code",
   "execution_count": 15,
   "id": "e94877e8",
   "metadata": {},
   "outputs": [
    {
     "data": {
      "text/plain": [
       "array([[-31.63846766,  -8.32043187],\n",
       "       [ -4.74300424,  13.76200566],\n",
       "       [ 36.38147189,  -5.44157378]])"
      ]
     },
     "execution_count": 15,
     "metadata": {},
     "output_type": "execute_result"
    }
   ],
   "source": [
    "from sklearn.decomposition import PCA\n",
    "pca = PCA(2)\n",
    "pca.fit(A)\n",
    "D = pca.transform(A)\n",
    "D"
   ]
  },
  {
   "cell_type": "code",
   "execution_count": null,
   "id": "72c903aa",
   "metadata": {},
   "outputs": [],
   "source": []
  }
 ],
 "metadata": {
  "kernelspec": {
   "display_name": "Python 3",
   "language": "python",
   "name": "python3"
  },
  "language_info": {
   "codemirror_mode": {
    "name": "ipython",
    "version": 3
   },
   "file_extension": ".py",
   "mimetype": "text/x-python",
   "name": "python",
   "nbconvert_exporter": "python",
   "pygments_lexer": "ipython3",
   "version": "3.8.8"
  }
 },
 "nbformat": 4,
 "nbformat_minor": 5
}

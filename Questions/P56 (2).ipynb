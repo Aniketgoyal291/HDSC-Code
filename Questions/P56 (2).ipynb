{
 "cells": [
  {
   "cell_type": "markdown",
   "id": "e8d6f269",
   "metadata": {},
   "source": [
    "## Transpose"
   ]
  },
  {
   "cell_type": "code",
   "execution_count": 12,
   "id": "74a0a042",
   "metadata": {},
   "outputs": [
    {
     "name": "stdout",
     "output_type": "stream",
     "text": [
      "[[1 2]\n",
      " [3 4]\n",
      " [5 6]]\n",
      "[[1. 3. 5.]\n",
      " [2. 4. 6.]]\n"
     ]
    }
   ],
   "source": [
    "import numpy as np\n",
    "def trans(A,rows,cols):\n",
    "    B = np.zeros((cols,rows))\n",
    "    for i in range(rows):\n",
    "        for j in range(cols):\n",
    "            B[j,i] = A[i,j]\n",
    "    print(B)\n",
    "A = np.array([[1,2],[3,4],[5,6]])\n",
    "print(A)\n",
    "trans(A,3,2)"
   ]
  },
  {
   "cell_type": "markdown",
   "id": "86aad62f",
   "metadata": {},
   "source": [
    "## Trace"
   ]
  },
  {
   "cell_type": "code",
   "execution_count": 14,
   "id": "4a205a1e",
   "metadata": {},
   "outputs": [
    {
     "name": "stdout",
     "output_type": "stream",
     "text": [
      "60\n"
     ]
    }
   ],
   "source": [
    "def trace(A):\n",
    "    a = 0\n",
    "    b = A.shape[0]\n",
    "    for i in range(b):\n",
    "        a = a+A[i,i]\n",
    "    print(a)\n",
    "A = np.arange(25).reshape(5,5)\n",
    "trace(A)"
   ]
  },
  {
   "cell_type": "code",
   "execution_count": null,
   "id": "3b3c8a81",
   "metadata": {},
   "outputs": [],
   "source": []
  }
 ],
 "metadata": {
  "kernelspec": {
   "display_name": "Python 3",
   "language": "python",
   "name": "python3"
  },
  "language_info": {
   "codemirror_mode": {
    "name": "ipython",
    "version": 3
   },
   "file_extension": ".py",
   "mimetype": "text/x-python",
   "name": "python",
   "nbconvert_exporter": "python",
   "pygments_lexer": "ipython3",
   "version": "3.8.8"
  }
 },
 "nbformat": 4,
 "nbformat_minor": 5
}

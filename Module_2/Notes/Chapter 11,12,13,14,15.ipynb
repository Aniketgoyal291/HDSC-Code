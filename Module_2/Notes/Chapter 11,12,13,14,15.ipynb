{
 "cells": [
  {
   "cell_type": "markdown",
   "id": "688bf6b3",
   "metadata": {},
   "source": [
    "## Calculation of Critical Values\n",
    "\n",
    "\n",
    "### (1) Gaussian Distribution"
   ]
  },
  {
   "cell_type": "code",
   "execution_count": 1,
   "id": "0bd9ef51",
   "metadata": {},
   "outputs": [
    {
     "name": "stdout",
     "output_type": "stream",
     "text": [
      "1.6448536269514722\n",
      "0.95\n"
     ]
    }
   ],
   "source": [
    "from scipy.stats import norm\n",
    "p = 0.95\n",
    "value = norm.ppf(p)\n",
    "print(value)\n",
    "p = norm.cdf(value)\n",
    "print(p)"
   ]
  },
  {
   "cell_type": "markdown",
   "id": "23802124",
   "metadata": {},
   "source": [
    "### (2) Student's t Distribution"
   ]
  },
  {
   "cell_type": "code",
   "execution_count": 2,
   "id": "21e9882a",
   "metadata": {},
   "outputs": [
    {
     "name": "stdout",
     "output_type": "stream",
     "text": [
      "1.8124611228107335\n",
      "0.949999999999923\n"
     ]
    }
   ],
   "source": [
    "from scipy.stats import t\n",
    "p = 0.95\n",
    "dof = 10\n",
    "value = t.ppf(p,dof)\n",
    "print(value)\n",
    "p = t.cdf(value,dof)\n",
    "print(p)"
   ]
  },
  {
   "cell_type": "markdown",
   "id": "f15e9537",
   "metadata": {},
   "source": [
    "### (3) Chi-Squared Distribution"
   ]
  },
  {
   "cell_type": "code",
   "execution_count": 3,
   "id": "f86ad04d",
   "metadata": {},
   "outputs": [
    {
     "name": "stdout",
     "output_type": "stream",
     "text": [
      "18.307038053275146\n",
      "0.95\n"
     ]
    }
   ],
   "source": [
    "from scipy.stats import chi2 \n",
    "p = 0.95\n",
    "dof = 10\n",
    "value = chi2.ppf(p,dof)\n",
    "print(value)\n",
    "p = chi2.cdf(value,dof)\n",
    "print(p)"
   ]
  },
  {
   "cell_type": "markdown",
   "id": "04849925",
   "metadata": {},
   "source": []
  },
  {
   "cell_type": "markdown",
   "id": "eb9bff98",
   "metadata": {},
   "source": [
    "# Chapter - 12"
   ]
  },
  {
   "cell_type": "code",
   "execution_count": 78,
   "id": "7825ff75",
   "metadata": {},
   "outputs": [
    {
     "data": {
      "image/png": "[encoded data removed]",
      "text/plain": [
       "<Figure size 432x288 with 1 Axes>"
      ]
     },
     "metadata": {
      "needs_background": "light"
     },
     "output_type": "display_data"
    },
    {
     "name": "stdout",
     "output_type": "stream",
     "text": [
      "Data1 mean and std: 100.77624952319204 19.620082678644234\n",
      "Data1 mean and std: 151.0495039571378 22.35798918770594\n"
     ]
    }
   ],
   "source": [
    "from numpy import random, std, mean, cov \n",
    "from numpy.random import seed, randn\n",
    "from matplotlib import pyplot\n",
    "seed(1)\n",
    "data1 = 20*randn(1000) + 100\n",
    "data2 = data1 + (10*randn(1000) + 50)\n",
    "pyplot.scatter(data1,data2)\n",
    "pyplot.show()\n",
    "print('Data1 mean and std:', mean(data1),std(data1))\n",
    "print('Data1 mean and std:', mean(data2),std(data2))"
   ]
  },
  {
   "cell_type": "markdown",
   "id": "78ce064a",
   "metadata": {},
   "source": [
    "As we can see, there is a positive correlation between these two variables"
   ]
  },
  {
   "cell_type": "code",
   "execution_count": 5,
   "id": "eeb56edb",
   "metadata": {},
   "outputs": [
    {
     "name": "stdout",
     "output_type": "stream",
     "text": [
      "[[385.33297729 389.7545618 ]\n",
      " [389.7545618  500.38006058]]\n"
     ]
    }
   ],
   "source": [
    "from numpy import cov\n",
    "covariance = cov(data1,data2)\n",
    "print(covariance)"
   ]
  },
  {
   "cell_type": "markdown",
   "id": "424b990b",
   "metadata": {},
   "source": [
    "### Q. How to import a dataset and find correlation between all the pairs of real-valued variables?"
   ]
  },
  {
   "cell_type": "code",
   "execution_count": 6,
   "id": "ca5ee99d",
   "metadata": {},
   "outputs": [
    {
     "data": {
      "text/html": [
       "<div>\n",
       "<style scoped>\n",
       "    .dataframe tbody tr th:only-of-type {\n",
       "        vertical-align: middle;\n",
       "    }\n",
       "\n",
       "    .dataframe tbody tr th {\n",
       "        vertical-align: top;\n",
       "    }\n",
       "\n",
       "    .dataframe thead th {\n",
       "        text-align: right;\n",
       "    }\n",
       "</style>\n",
       "<table border=\"1\" class=\"dataframe\">\n",
       "  <thead>\n",
       "    <tr style=\"text-align: right;\">\n",
       "      <th></th>\n",
       "      <th>sepal_length</th>\n",
       "      <th>sepal_width</th>\n",
       "      <th>petal_length</th>\n",
       "      <th>petal_width</th>\n",
       "    </tr>\n",
       "  </thead>\n",
       "  <tbody>\n",
       "    <tr>\n",
       "      <th>sepal_length</th>\n",
       "      <td>1.000000</td>\n",
       "      <td>-0.109369</td>\n",
       "      <td>0.871754</td>\n",
       "      <td>0.817954</td>\n",
       "    </tr>\n",
       "    <tr>\n",
       "      <th>sepal_width</th>\n",
       "      <td>-0.109369</td>\n",
       "      <td>1.000000</td>\n",
       "      <td>-0.420516</td>\n",
       "      <td>-0.356544</td>\n",
       "    </tr>\n",
       "    <tr>\n",
       "      <th>petal_length</th>\n",
       "      <td>0.871754</td>\n",
       "      <td>-0.420516</td>\n",
       "      <td>1.000000</td>\n",
       "      <td>0.962757</td>\n",
       "    </tr>\n",
       "    <tr>\n",
       "      <th>petal_width</th>\n",
       "      <td>0.817954</td>\n",
       "      <td>-0.356544</td>\n",
       "      <td>0.962757</td>\n",
       "      <td>1.000000</td>\n",
       "    </tr>\n",
       "  </tbody>\n",
       "</table>\n",
       "</div>"
      ],
      "text/plain": [
       "              sepal_length  sepal_width  petal_length  petal_width\n",
       "sepal_length      1.000000    -0.109369      0.871754     0.817954\n",
       "sepal_width      -0.109369     1.000000     -0.420516    -0.356544\n",
       "petal_length      0.871754    -0.420516      1.000000     0.962757\n",
       "petal_width       0.817954    -0.356544      0.962757     1.000000"
      ]
     },
     "execution_count": 6,
     "metadata": {},
     "output_type": "execute_result"
    }
   ],
   "source": [
    "import pandas as pd \n",
    "from scipy.stats import pearsonr\n",
    "data = pd.read_csv('/Users/aniketgoyal/Documents/jupyter_notebook/HDSC Code/Module 2/Questions/iris.csv')\n",
    "data.corr(method = 'pearson')"
   ]
  },
  {
   "cell_type": "markdown",
   "id": "ad14e39f",
   "metadata": {},
   "source": [
    "# Chapter 13"
   ]
  },
  {
   "cell_type": "markdown",
   "id": "b4a6b75b",
   "metadata": {},
   "source": [
    "### Creating dataset"
   ]
  },
  {
   "cell_type": "code",
   "execution_count": 7,
   "id": "1b865d52",
   "metadata": {},
   "outputs": [
    {
     "name": "stdout",
     "output_type": "stream",
     "text": [
      "50.30291426037849 4.4257810691579245\n",
      "51.763973888101 4.6599740872749775\n"
     ]
    }
   ],
   "source": [
    "from numpy.random import seed, randn\n",
    "from numpy import mean, std\n",
    "seed(1)\n",
    "data1 = 5*randn(100) + 50\n",
    "data2 = 5*randn(100) + 51\n",
    "print(mean(data1),std(data1))\n",
    "print(mean(data2),std(data2))"
   ]
  },
  {
   "cell_type": "markdown",
   "id": "ae40ed8e",
   "metadata": {},
   "source": [
    "Now, we will compare the two dataset using the t-test"
   ]
  },
  {
   "cell_type": "markdown",
   "id": "49dd1dc7",
   "metadata": {},
   "source": [
    "### (1) Student's t test"
   ]
  },
  {
   "cell_type": "code",
   "execution_count": 8,
   "id": "585d1b52",
   "metadata": {},
   "outputs": [
    {
     "name": "stdout",
     "output_type": "stream",
     "text": [
      "different distribution(reject HO)\n",
      "0.024782819014639627 -2.2620139704259556\n"
     ]
    }
   ],
   "source": [
    "from scipy.stats import ttest_ind\n",
    "stat, p = ttest_ind(data1,data2)\n",
    "alpha = 0.05\n",
    "if p > alpha:\n",
    "    print(\"Same Distributions (fail to reject HO)\")\n",
    "else:\n",
    "    print(\"different distribution(reject HO)\")\n",
    "print(p,stat)"
   ]
  },
  {
   "cell_type": "markdown",
   "id": "14e2155e",
   "metadata": {},
   "source": [
    "### (2) Paired student's t test\n",
    "Although the samples are independent, not paired, we can pretend for the sake of the demonstration that the observations are paired and calculate the statistic"
   ]
  },
  {
   "cell_type": "code",
   "execution_count": 9,
   "id": "09222475",
   "metadata": {},
   "outputs": [
    {
     "name": "stdout",
     "output_type": "stream",
     "text": [
      "Statistics: -2.3719009567078646 ,P-Value: 0.019630798337126193\n",
      "different distributions (Reject HO)\n"
     ]
    }
   ],
   "source": [
    "from numpy.random import seed, randn\n",
    "from scipy.stats import ttest_rel\n",
    "seed(1)\n",
    "data1 = 5*randn(100)+50\n",
    "data2 = 5*randn(100)+51\n",
    "stat, p = ttest_rel(data1,data2)\n",
    "print(\"Statistics:\",stat,\",P-Value:\",p)\n",
    "alpha = 0.05\n",
    "if p>alpha :\n",
    "    print(\"Same distributions (Fail to reject HO)\")\n",
    "else:\n",
    "    print(\"different distributions (Reject HO)\")"
   ]
  },
  {
   "cell_type": "markdown",
   "id": "e7767958",
   "metadata": {},
   "source": [
    "### (3) Analysis of Variance test (ANOVA)\n",
    "This test is used to test if TWO OR MORE data samples are having same mean, Hence are taken from the same data population. \n",
    "The null hypo is that all the distributions have same mean"
   ]
  },
  {
   "cell_type": "code",
   "execution_count": 10,
   "id": "bc18967a",
   "metadata": {},
   "outputs": [
    {
     "name": "stdout",
     "output_type": "stream",
     "text": [
      "0.027043909170728936\n",
      "Reject HO(different distributions)\n"
     ]
    }
   ],
   "source": [
    "from scipy.stats import f_oneway\n",
    "from numpy.random import randn,seed\n",
    "seed(1)\n",
    "data1 = 5*randn(100) + 50\n",
    "data2 = 5*randn(100) + 50\n",
    "data3 = 5*randn(100) + 52\n",
    "stat, f = f_oneway(data1, data2, data3)\n",
    "alpha = 0.05\n",
    "print(f)\n",
    "if f>alpha:\n",
    "    print(\"Fail to reject HO(Same distributions)\")\n",
    "else:\n",
    "    print(\"Reject HO(different distributions)\")"
   ]
  },
  {
   "cell_type": "markdown",
   "id": "1d8c007f",
   "metadata": {},
   "source": [
    "# Chapter 14"
   ]
  },
  {
   "cell_type": "markdown",
   "id": "ff6f3c8a",
   "metadata": {},
   "source": [
    "## Association effect size\n",
    "One of the most used method is the pearson's r correlation."
   ]
  },
  {
   "cell_type": "code",
   "execution_count": 11,
   "id": "2deb5aa9",
   "metadata": {},
   "outputs": [
    {
     "name": "stdout",
     "output_type": "stream",
     "text": [
      "0.712\n"
     ]
    }
   ],
   "source": [
    "from numpy.random import randn, seed\n",
    "from scipy.stats import pearsonr\n",
    "seed(1)\n",
    "data1 = 10 * randn(10000) + 50\n",
    "data2 = data1 + (10 * randn(10000) + 50)\n",
    "corr,_ = pearsonr(data1,data2)\n",
    "print(\"%.3f\"%corr)"
   ]
  },
  {
   "cell_type": "markdown",
   "id": "672617f3",
   "metadata": {},
   "source": [
    "## Difference effect size\n",
    "The most used method is cohen's d method and we will also use the same"
   ]
  },
  {
   "cell_type": "code",
   "execution_count": 12,
   "id": "64ce2b37",
   "metadata": {},
   "outputs": [
    {
     "data": {
      "text/plain": [
       "0.5003180892428785"
      ]
     },
     "execution_count": 12,
     "metadata": {},
     "output_type": "execute_result"
    }
   ],
   "source": [
    "from numpy.random import seed, randn\n",
    "\n",
    "def cohend(d1,d2):\n",
    "    from numpy import var,mean\n",
    "    from math import sqrt\n",
    "    n1,n2 = len(d1),len(d2)\n",
    "    s1,s2 = var(d1,ddof=1),var(d2,ddof=1)\n",
    "    s = sqrt(((n1-1)*s1 + (n2-1)*s2)/(n1+n2-2))\n",
    "    u1,u2 = mean(d1),mean(d2)\n",
    "    return (u1-u2)/s\n",
    "\n",
    "seed(1)\n",
    "d1 = 10*randn(10000) + 60\n",
    "d2 = 10*randn(10000) + 55\n",
    "cohend(d1,d2)"
   ]
  },
  {
   "cell_type": "markdown",
   "id": "fc1e43e3",
   "metadata": {},
   "source": [
    "# Chapter - 15"
   ]
  },
  {
   "cell_type": "code",
   "execution_count": 13,
   "id": "bcfb3d0e",
   "metadata": {},
   "outputs": [
    {
     "data": {
      "text/plain": [
       "25.52457250047935"
      ]
     },
     "execution_count": 13,
     "metadata": {},
     "output_type": "execute_result"
    }
   ],
   "source": [
    "from statsmodels.stats.power import TTestIndPower\n",
    "# Pre-Defined parameters for power analysis\n",
    "alpha = 0.05\n",
    "effect = 0.8\n",
    "power = 0.8\n",
    "analysis = TTestIndPower()\n",
    "result = analysis.solve_power(effect,alpha = alpha, power = power, nobs1 = None)\n",
    "result\n",
    "# This means our sample size is 26."
   ]
  },
  {
   "cell_type": "markdown",
   "id": "2b770e31",
   "metadata": {},
   "source": [
    "This is the code to create power curves:"
   ]
  },
  {
   "cell_type": "code",
   "execution_count": 14,
   "id": "544265b8",
   "metadata": {},
   "outputs": [
    {
     "data": {
      "image/png": "[encoded data removed]",
      "text/plain": [
       "<Figure size 432x288 with 1 Axes>"
      ]
     },
     "execution_count": 14,
     "metadata": {},
     "output_type": "execute_result"
    },
    {
     "data": {
      "image/png": "[encoded data removed]",
      "text/plain": [
       "<Figure size 432x288 with 1 Axes>"
      ]
     },
     "metadata": {
      "needs_background": "light"
     },
     "output_type": "display_data"
    }
   ],
   "source": [
    "from matplotlib import pyplot\n",
    "import numpy as np\n",
    "from statsmodels.stats.power import TTestIndPower\n",
    "effect_size = np.array([0.2,0.5,0.8])\n",
    "sample_size = np.array(range(5,100))\n",
    "graph = TTestIndPower()\n",
    "graph.plot_power(dep_var='nobs',nobs=sample_size, effect_size=effect_size)"
   ]
  },
  {
   "cell_type": "markdown",
   "id": "a02852d9",
   "metadata": {},
   "source": [
    "# Chapter 17"
   ]
  },
  {
   "cell_type": "code",
   "execution_count": 15,
   "id": "1750b1dd",
   "metadata": {},
   "outputs": [
    {
     "name": "stdout",
     "output_type": "stream",
     "text": [
      "[6, 4, 5, 1]\n"
     ]
    },
    {
     "data": {
      "text/plain": [
       "[2, 3]"
      ]
     },
     "execution_count": 15,
     "metadata": {},
     "output_type": "execute_result"
    }
   ],
   "source": [
    "from sklearn.utils import resample\n",
    "data = [1,2,3,4,5,6]\n",
    "boot = resample(data,replace=True, n_samples=4, random_state=1)\n",
    "print(boot)\n",
    "oob = [x for x in data if x not in boot]\n",
    "oob"
   ]
  },
  {
   "cell_type": "markdown",
   "id": "daa19822",
   "metadata": {},
   "source": [
    "# Chapter 18"
   ]
  },
  {
   "cell_type": "code",
   "execution_count": 16,
   "id": "1f9a60b7",
   "metadata": {},
   "outputs": [
    {
     "name": "stdout",
     "output_type": "stream",
     "text": [
      "[123  13  15 175] [ 15 135]\n",
      "[ 15 135  13 175] [123  15]\n",
      "[123  15 135  15] [ 13 175]\n"
     ]
    },
    {
     "name": "stderr",
     "output_type": "stream",
     "text": [
      "/Users/aniketgoyal/opt/anaconda3/lib/python3.8/site-packages/sklearn/utils/validation.py:70: FutureWarning: Pass shuffle=True, random_state=1 as keyword args. From version 1.0 (renaming of 0.25) passing these as positional arguments will result in an error\n",
      "  warnings.warn(f\"Pass {args_msg} as keyword args. From version \"\n"
     ]
    }
   ],
   "source": [
    "from sklearn.model_selection import KFold\n",
    "import numpy as np\n",
    "# prepare cross validation\n",
    "kfold = KFold(3,True,1)\n",
    "data = np.array([123,15,135,13,15,175])\n",
    "# enumerate splits\n",
    "for train,test in kfold.split(data):\n",
    "    print(data[train],data[test]) \n",
    "# Here we include train and test in data[], because they are just indices."
   ]
  },
  {
   "cell_type": "markdown",
   "id": "0e21c3c8",
   "metadata": {},
   "source": [
    "# Chapter 20"
   ]
  },
  {
   "cell_type": "markdown",
   "id": "9630de04",
   "metadata": {},
   "source": [
    "The following code is for gaussian distribution with 100 samples:"
   ]
  },
  {
   "cell_type": "code",
   "execution_count": 41,
   "id": "d4175b67",
   "metadata": {},
   "outputs": [
    {
     "name": "stdout",
     "output_type": "stream",
     "text": [
      "The values from 47.947433543234624 to 52.65839497752236 \n"
     ]
    }
   ],
   "source": [
    "from numpy.random import randn, seed\n",
    "from numpy import sqrt\n",
    "from scipy.stats import norm, chi2\n",
    "seed(1)\n",
    "data = 5*randn(100) + 50\n",
    "n = len(data)\n",
    "dof = n-1\n",
    "\n",
    "# Specifying the data coverage for Normal Distribution.\n",
    "prop = 0.95\n",
    "prop_inv = (1.0-prop)/2\n",
    "Gaussian_Critical = norm.ppf(prop_inv)\n",
    "\n",
    "# Specifying the Confidence.\n",
    "from scipy.stats import chi2\n",
    "prob = 0.99\n",
    "prob_inv = (1-prob)\n",
    "Chi_Critical = chi2.ppf(prob_inv, dof)\n",
    "\n",
    "Interval = sqrt((dof * (1+(1/n)) * Gaussian_Critical**2)/Chi_Critical)\n",
    "\n",
    "data_mean = mean(data)\n",
    "data_mean\n",
    "lower, upper = data_mean - Interval, data_mean + Interval\n",
    "print(f'The values from {lower} to {upper} ')"
   ]
  },
  {
   "cell_type": "markdown",
   "id": "5e32ad74",
   "metadata": {},
   "source": [
    "Now let us illustrate that size of confidence interval will decrease with the increase in the number of sample:"
   ]
  },
  {
   "cell_type": "code",
   "execution_count": 55,
   "id": "dcb8ddd6",
   "metadata": {},
   "outputs": [
    {
     "data": {
      "image/png": "[encoded data removed]",
      "text/plain": [
       "<Figure size 432x288 with 1 Axes>"
      ]
     },
     "metadata": {
      "needs_background": "light"
     },
     "output_type": "display_data"
    }
   ],
   "source": [
    "from numpy.random import seed, randn \n",
    "from numpy import sqrt\n",
    "from scipy.stats import norm, chi2\n",
    "from matplotlib import pyplot\n",
    "\n",
    "size = range(5,15)\n",
    "for n in size:\n",
    "    data = 5*randn(n) + 50\n",
    "    dof = n-1\n",
    "    prop = 0.95\n",
    "    prop_inv = (1.0-prop)/2\n",
    "    Gaussian_Critical = norm.ppf(prop_inv)\n",
    "    prop = 0.99\n",
    "    prop_inv = 1.0-prop\n",
    "    Chi_Critical = chi2.ppf(prop_inv, dof)\n",
    "    Tol = sqrt((dof * (1+(1/n)) * Gaussian_Critical**2)/Chi_Critical)\n",
    "    pyplot.errorbar(n, 50, yerr=Tol, color = 'Blue', fmt = 'o')\n",
    "pyplot.show()"
   ]
  },
  {
   "cell_type": "markdown",
   "id": "fe6a3fe9",
   "metadata": {},
   "source": [
    "As we can see, the tolerance interval becomes smaller, As we increase the no. of samples."
   ]
  },
  {
   "cell_type": "markdown",
   "id": "de689e1b",
   "metadata": {},
   "source": [
    "# Chapter 21"
   ]
  },
  {
   "cell_type": "code",
   "execution_count": 9,
   "id": "7ec51df7",
   "metadata": {},
   "outputs": [
    {
     "data": {
      "text/plain": [
       "0.0007839999999999999"
      ]
     },
     "execution_count": 9,
     "metadata": {},
     "output_type": "execute_result"
    }
   ],
   "source": [
    "from math import sqrt\n",
    "Interval = 1.96 * sqrt((0.8 * (1-0.8))/1000000)\n",
    "Interval"
   ]
  },
  {
   "cell_type": "code",
   "execution_count": 12,
   "id": "f66e84af",
   "metadata": {},
   "outputs": [],
   "source": [
    "from statsmodels.stats.proportion import proportion_confint\n",
    "lower, upper = proportion_confint(88, 100, 0.05)"
   ]
  },
  {
   "cell_type": "code",
   "execution_count": 23,
   "id": "56d2cb93",
   "metadata": {},
   "outputs": [
    {
     "name": "stdout",
     "output_type": "stream",
     "text": [
      "50th percentile (median) = 0.523\n",
      "2.5th percentile = 0.493\n",
      "97.5th percentile = 0.546\n"
     ]
    }
   ],
   "source": [
    "# bootstrap confidence intervals\n",
    "from numpy.random import seed, randn, randint\n",
    "from numpy import mean\n",
    "from numpy import median\n",
    "from numpy import percentile\n",
    "seed(1)\n",
    "\n",
    "# generate dataset\n",
    "dataset = 0.5 + randn(1000) * 0.5\n",
    "\n",
    "# bootstrap\n",
    "scores = list()\n",
    "for _ in range(100):\n",
    "    indices = randint(0, 1000, 1000) \n",
    "    sample = dataset[indices]\n",
    "    statistic = mean(sample) \n",
    "    scores.append(statistic)\n",
    "print('50th percentile (median) = %.3f' % median(scores)) \n",
    "\n",
    "# calculate 95% confidence intervals (100 - alpha)\n",
    "alpha = 5.0\n",
    "lower_p = alpha / 2.0\n",
    "lower = max(0.0, percentile(scores, lower_p)) \n",
    "print('%.1fth percentile = %.3f' % (lower_p, lower))\n",
    "upper_p = (100 - alpha) + (alpha / 2.0)\n",
    "upper = min(1.0, percentile(scores, upper_p)) \n",
    "print('%.1fth percentile = %.3f' % (upper_p, upper))"
   ]
  },
  {
   "cell_type": "markdown",
   "id": "69815043",
   "metadata": {},
   "source": [
    "# Chapter 22"
   ]
  },
  {
   "cell_type": "code",
   "execution_count": null,
   "id": "1dea7c62",
   "metadata": {},
   "outputs": [],
   "source": []
  }
 ],
 "metadata": {
  "kernelspec": {
   "display_name": "Python 3",
   "language": "python",
   "name": "python3"
  },
  "language_info": {
   "codemirror_mode": {
    "name": "ipython",
    "version": 3
   },
   "file_extension": ".py",
   "mimetype": "text/x-python",
   "name": "python",
   "nbconvert_exporter": "python",
   "pygments_lexer": "ipython3",
   "version": "3.8.8"
  }
 },
 "nbformat": 4,
 "nbformat_minor": 5
}

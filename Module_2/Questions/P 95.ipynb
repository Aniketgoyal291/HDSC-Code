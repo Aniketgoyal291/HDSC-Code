{
 "cells": [
  {
   "cell_type": "markdown",
   "id": "42ea05f5",
   "metadata": {},
   "source": [
    "# Q.1"
   ]
  },
  {
   "cell_type": "code",
   "execution_count": 8,
   "id": "12f6437f",
   "metadata": {},
   "outputs": [
    {
     "name": "stdout",
     "output_type": "stream",
     "text": [
      "1.2815515655446004 1.3721836411102863 15.987179172105265\n",
      "1.6448536269514722 1.8124611228107335 18.307038053275146\n",
      "2.3263478740408408 2.763769457447889 23.209251158954356\n"
     ]
    }
   ],
   "source": [
    "def critical(p, dof):\n",
    "    from scipy.stats import t,norm,chi2\n",
    "    Gauss = norm.ppf(p)\n",
    "    T = t.ppf(p,dof)\n",
    "    Chi = chi2.ppf(p,dof)\n",
    "    print(Gauss,T,Chi)\n",
    "\n",
    "p = 0.9\n",
    "critical(p,10)\n",
    "p = 0.95\n",
    "critical(p,10)\n",
    "p = 0.99\n",
    "critical(p,10)"
   ]
  },
  {
   "cell_type": "markdown",
   "id": "225f27a4",
   "metadata": {},
   "source": [
    "# Q.2"
   ]
  },
  {
   "cell_type": "code",
   "execution_count": 6,
   "id": "38f133ae",
   "metadata": {},
   "outputs": [
    {
     "name": "stdout",
     "output_type": "stream",
     "text": [
      "1.7865755860295949\n"
     ]
    }
   ],
   "source": [
    "from scipy.stats import f\n",
    "value = f.ppf(0.9,29,18) \n",
    "print(value)"
   ]
  },
  {
   "cell_type": "markdown",
   "id": "ce835f24",
   "metadata": {},
   "source": [
    "# Q.3"
   ]
  },
  {
   "cell_type": "code",
   "execution_count": 7,
   "id": "fe5485b4",
   "metadata": {},
   "outputs": [
    {
     "name": "stdout",
     "output_type": "stream",
     "text": [
      "0.9922397464494463 0.9699412948985491 0.21150794889297445\n"
     ]
    }
   ],
   "source": [
    "def p_value(c,dof):\n",
    "    from scipy.stats import norm,t,chi2\n",
    "    Gauss = norm.cdf(c)\n",
    "    t = t.cdf(c,dof)\n",
    "    chi = chi2.cdf(c,dof)\n",
    "    print(Gauss,t,chi)\n",
    "\n",
    "c = 2.42\n",
    "dof = 5\n",
    "p_value(c,dof)"
   ]
  }
 ],
 "metadata": {
  "kernelspec": {
   "display_name": "Python 3",
   "language": "python",
   "name": "python3"
  },
  "language_info": {
   "codemirror_mode": {
    "name": "ipython",
    "version": 3
   },
   "file_extension": ".py",
   "mimetype": "text/x-python",
   "name": "python",
   "nbconvert_exporter": "python",
   "pygments_lexer": "ipython3",
   "version": "3.8.8"
  }
 },
 "nbformat": 4,
 "nbformat_minor": 5
}

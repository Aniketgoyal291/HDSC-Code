{
 "cells": [
  {
   "cell_type": "markdown",
   "metadata": {},
   "source": [
    "# Q.1"
   ]
  },
  {
   "cell_type": "code",
   "execution_count": 1,
   "metadata": {},
   "outputs": [
    {
     "name": "stdout",
     "output_type": "stream",
     "text": [
      "[3, 10, 2]\n",
      "[9 3 6]\n",
      "[1 2 9]\n"
     ]
    }
   ],
   "source": [
    "from random import seed, randint\n",
    "import numpy as np\n",
    "seed(1)\n",
    "python = [randint(1,10),randint(1,10),randint(1,10)]\n",
    "numpy1 = np.random.randint(1,10,3)\n",
    "numpy2 = np.random.randint(1,10,3)\n",
    "print(python)\n",
    "print(numpy1)\n",
    "print(numpy2)"
   ]
  },
  {
   "cell_type": "markdown",
   "metadata": {},
   "source": [
    "As we can see in the result, seeding the numpy random generator does not effect the numpy random generator as the result of numpy's random generator are still different."
   ]
  },
  {
   "cell_type": "markdown",
   "metadata": {},
   "source": [
    "# Q.2"
   ]
  },
  {
   "cell_type": "code",
   "execution_count": 2,
   "metadata": {},
   "outputs": [
    {
     "name": "stdout",
     "output_type": "stream",
     "text": [
      "0.2550690257394217\n",
      "32\n",
      "[0.07781283712174002, -1.1279150330037588, -0.4993247889966073, 0.47117407734163236, -2.1094507236670066, 0.1612617729414316, -1.052647335280873, 0.8729577043031487, 0.16600323468964862, -1.5338835753205629, -0.18429135176443584, 1.7897653740315347, -0.39030040197713534, -0.25167836943777205, -0.08735515600559883]\n",
      "-0.18429135176443584\n",
      "[0.16600323468964862, 0.07781283712174002, -1.052647335280873, -0.18429135176443584]\n"
     ]
    }
   ],
   "source": [
    "import random\n",
    "A = random.random()\n",
    "B = random.randint(1,39)\n",
    "C = []\n",
    "for i in range(15):\n",
    "    value = random.gauss(0,1)\n",
    "    C.append(value)\n",
    "D = random.choice(C)\n",
    "E = random.sample(C,4)\n",
    "print(A)\n",
    "print(B)\n",
    "print(C)\n",
    "print(D)\n",
    "print(E)"
   ]
  },
  {
   "cell_type": "code",
   "execution_count": 3,
   "metadata": {},
   "outputs": [
    {
     "name": "stdout",
     "output_type": "stream",
     "text": [
      "[0.80441007 0.82324745 0.04756261 0.44486124 0.13534503 0.30219109\n",
      " 0.27995354 0.58032213 0.19099328 0.47261564 0.52326063 0.54153565\n",
      " 0.07016453 0.51910818 0.6269361 ]\n",
      "[11 13  8  3  7 13  8 14 13  3  5  8  7  6  6  4  4 13  3  5  6 10]\n",
      "[ 0.85039577  0.60325935 -0.21963531  1.74985819  0.60294217]\n"
     ]
    }
   ],
   "source": [
    "import numpy.random as random\n",
    "A = random.rand(15)\n",
    "B = random.randint(1,15,22)\n",
    "C = random.randn(5)\n",
    "print(A)\n",
    "print(B)\n",
    "print(C)"
   ]
  },
  {
   "cell_type": "code",
   "execution_count": null,
   "metadata": {},
   "outputs": [],
   "source": []
  }
 ],
 "metadata": {
  "kernelspec": {
   "display_name": "Python 3",
   "language": "python",
   "name": "python3"
  },
  "language_info": {
   "codemirror_mode": {
    "name": "ipython",
    "version": 3
   },
   "file_extension": ".py",
   "mimetype": "text/x-python",
   "name": "python",
   "nbconvert_exporter": "python",
   "pygments_lexer": "ipython3",
   "version": "3.9.2"
  }
 },
 "nbformat": 4,
 "nbformat_minor": 4
}

{
 "cells": [
  {
   "cell_type": "markdown",
   "id": "542e2584",
   "metadata": {},
   "source": [
    "# Q.1"
   ]
  },
  {
   "cell_type": "code",
   "execution_count": 20,
   "id": "f3839dbb",
   "metadata": {},
   "outputs": [
    {
     "name": "stdout",
     "output_type": "stream",
     "text": [
      "Same distributions (fail to reject H0)\n"
     ]
    }
   ],
   "source": [
    "from numpy.random import seed, randn\n",
    "from scipy.stats import ttest_ind, ttest_rel,f_oneway\n",
    "data1 = 6*randn(100) + 30\n",
    "data2 = 6*randn(100) + 30\n",
    "stat1, p1 = ttest_ind(data1,data2)\n",
    "alpha = 0.05\n",
    "if p1 > alpha:\n",
    "    print('Same distributions (fail to reject H0)') \n",
    "else:\n",
    "    print('Different distributions (reject H0)')"
   ]
  },
  {
   "cell_type": "code",
   "execution_count": 21,
   "id": "a4d74517",
   "metadata": {},
   "outputs": [
    {
     "name": "stdout",
     "output_type": "stream",
     "text": [
      "Same distributions (fail to reject H0)\n"
     ]
    }
   ],
   "source": [
    "stat2, p2 = ttest_rel(data1,data2)\n",
    "alpha = 0.05\n",
    "if p2 > alpha:\n",
    "    print('Same distributions (fail to reject H0)') \n",
    "else:\n",
    "    print('Different distributions (reject H0)')"
   ]
  },
  {
   "cell_type": "code",
   "execution_count": 22,
   "id": "17fe043b",
   "metadata": {},
   "outputs": [
    {
     "name": "stdout",
     "output_type": "stream",
     "text": [
      "Same distributions (fail to reject H0)\n"
     ]
    }
   ],
   "source": [
    "data3 = 6*randn(100) + 30\n",
    "stat3, p3 = f_oneway(data1,data2,data3)\n",
    "alpha = 0.05\n",
    "if p3 > alpha:\n",
    "    print('Same distributions (fail to reject H0)') \n",
    "else:\n",
    "    print('Different distributions (reject H0)')"
   ]
  },
  {
   "cell_type": "markdown",
   "id": "ec006d19",
   "metadata": {},
   "source": [
    "# Q.2"
   ]
  },
  {
   "cell_type": "code",
   "execution_count": null,
   "id": "27580de0",
   "metadata": {},
   "outputs": [],
   "source": []
  },
  {
   "cell_type": "markdown",
   "id": "2674caba",
   "metadata": {},
   "source": [
    "# Q.3"
   ]
  },
  {
   "cell_type": "markdown",
   "id": "a47cb2ee",
   "metadata": {},
   "source": [
    "(1) Test to determine if two independent samples were drawn from the same population: Mann-Whitney U test\n",
    "\n",
    "(2) Test between 2 somehow dependent samples to know if they are from same distribution: Wilcoxon Signed-rank test\n",
    "\n",
    "(3) Test between 2 or more data samples to determine if they are from same distribution: Kruskal-Wallis H Test\n",
    "\n",
    "(4) Test to determine if multiple pair of sample are from the same distribution:\n",
    "Friedman Test"
   ]
  }
 ],
 "metadata": {
  "kernelspec": {
   "display_name": "Python 3",
   "language": "python",
   "name": "python3"
  },
  "language_info": {
   "codemirror_mode": {
    "name": "ipython",
    "version": 3
   },
   "file_extension": ".py",
   "mimetype": "text/x-python",
   "name": "python",
   "nbconvert_exporter": "python",
   "pygments_lexer": "ipython3",
   "version": "3.8.8"
  }
 },
 "nbformat": 4,
 "nbformat_minor": 5
}

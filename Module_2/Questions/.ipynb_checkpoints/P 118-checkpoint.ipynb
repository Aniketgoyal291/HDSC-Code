{
 "cells": [
  {
   "cell_type": "markdown",
   "id": "25ba79a0",
   "metadata": {},
   "source": [
    "# Q.2"
   ]
  },
  {
   "cell_type": "markdown",
   "id": "b0148de4",
   "metadata": {},
   "source": [
    "This is the case of average variance"
   ]
  },
  {
   "cell_type": "code",
   "execution_count": 27,
   "id": "a7b7912f",
   "metadata": {},
   "outputs": [
    {
     "data": {
      "text/plain": [
       "4.849706461835655"
      ]
     },
     "execution_count": 27,
     "metadata": {},
     "output_type": "execute_result"
    }
   ],
   "source": [
    "from numpy.random import randn, seed\n",
    "def cohend_average(d1,d2):\n",
    "    from numpy import var, mean\n",
    "    from math import sqrt\n",
    "    from scipy.stats import pearsonr\n",
    "    u1, u2 = mean(d1),mean(d2)\n",
    "    s1,s2 = var(d1),var(d2)\n",
    "    r,_ = pearsonr(d1,d2)\n",
    "    s = sqrt((s1+s2)/2)\n",
    "    return (u1-u2)/s\n",
    "\n",
    "seed(1)\n",
    "d1 = 10*randn(100) + 100\n",
    "d2 = 10*randn(100) + 55\n",
    "cohend_average(d1,d2)"
   ]
  },
  {
   "cell_type": "markdown",
   "id": "5117fce6",
   "metadata": {},
   "source": [
    "# Q.3"
   ]
  },
  {
   "cell_type": "code",
   "execution_count": null,
   "id": "bcd64253",
   "metadata": {},
   "outputs": [],
   "source": []
  }
 ],
 "metadata": {
  "kernelspec": {
   "display_name": "Python 3",
   "language": "python",
   "name": "python3"
  },
  "language_info": {
   "codemirror_mode": {
    "name": "ipython",
    "version": 3
   },
   "file_extension": ".py",
   "mimetype": "text/x-python",
   "name": "python",
   "nbconvert_exporter": "python",
   "pygments_lexer": "ipython3",
   "version": "3.8.8"
  }
 },
 "nbformat": 4,
 "nbformat_minor": 5
}

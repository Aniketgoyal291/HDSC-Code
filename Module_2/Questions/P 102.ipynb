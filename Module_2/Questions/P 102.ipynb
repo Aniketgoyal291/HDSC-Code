{
 "cells": [
  {
   "cell_type": "markdown",
   "id": "7b3dd9fd",
   "metadata": {},
   "source": [
    "# Q.1"
   ]
  },
  {
   "cell_type": "code",
   "execution_count": 1,
   "id": "ac97f403",
   "metadata": {
    "scrolled": true
   },
   "outputs": [
    {
     "name": "stdout",
     "output_type": "stream",
     "text": [
      "Correaltion cofficient between data1 and data2: 0.3023573044615303\n",
      "Correaltion cofficient between data1 and data3: -0.23012147999672206\n"
     ]
    }
   ],
   "source": [
    "from numpy.random import seed, randn\n",
    "from scipy.stats import pearsonr\n",
    "data1 = 10*randn(1000) + 100\n",
    "data2 = data1 + (30*randn(1000) + 50)\n",
    "data3 = (40*randn(1000) + 3000) - data1 # IMP Do not put data1 before the (-)\n",
    "value1, p1 = pearsonr(data1,data2)\n",
    "value2, p2 = pearsonr(data1, data3)\n",
    "print(\"Correaltion cofficient between data1 and data2:\",value1)\n",
    "print(\"Correaltion cofficient between data1 and data3:\",value2)"
   ]
  },
  {
   "cell_type": "markdown",
   "id": "745842ee",
   "metadata": {},
   "source": [
    "# Q.2"
   ]
  },
  {
   "cell_type": "code",
   "execution_count": 2,
   "id": "700350ee",
   "metadata": {},
   "outputs": [
    {
     "name": "stdout",
     "output_type": "stream",
     "text": [
      "[[  96.63216756   94.65748963]\n",
      " [  94.65748963 1024.2882864 ]]\n"
     ]
    },
    {
     "data": {
      "text/plain": [
       "0.3008728630843491"
      ]
     },
     "execution_count": 2,
     "metadata": {},
     "output_type": "execute_result"
    }
   ],
   "source": [
    "def cor(A,B):\n",
    "    from numpy import cov, std\n",
    "    from math import sqrt\n",
    "    covariance = cov(A,B)\n",
    "    print(covariance)\n",
    "    corr = covariance[0,1]/sqrt(covariance[0,0]*covariance[1,1])\n",
    "    return corr\n",
    "\n",
    "data1 = 10*randn(1000) + 100\n",
    "data2 = data1 + (30*randn(1000) + 50)\n",
    "cor(data1,data2)"
   ]
  },
  {
   "cell_type": "markdown",
   "id": "0ada67a5",
   "metadata": {},
   "source": [
    "# Q.3"
   ]
  },
  {
   "cell_type": "code",
   "execution_count": 3,
   "id": "f4e71f49",
   "metadata": {},
   "outputs": [
    {
     "data": {
      "text/html": [
       "<div>\n",
       "<style scoped>\n",
       "    .dataframe tbody tr th:only-of-type {\n",
       "        vertical-align: middle;\n",
       "    }\n",
       "\n",
       "    .dataframe tbody tr th {\n",
       "        vertical-align: top;\n",
       "    }\n",
       "\n",
       "    .dataframe thead th {\n",
       "        text-align: right;\n",
       "    }\n",
       "</style>\n",
       "<table border=\"1\" class=\"dataframe\">\n",
       "  <thead>\n",
       "    <tr style=\"text-align: right;\">\n",
       "      <th></th>\n",
       "      <th>sepal_length</th>\n",
       "      <th>sepal_width</th>\n",
       "      <th>petal_length</th>\n",
       "      <th>petal_width</th>\n",
       "    </tr>\n",
       "  </thead>\n",
       "  <tbody>\n",
       "    <tr>\n",
       "      <th>sepal_length</th>\n",
       "      <td>1.000000</td>\n",
       "      <td>-0.109369</td>\n",
       "      <td>0.871754</td>\n",
       "      <td>0.817954</td>\n",
       "    </tr>\n",
       "    <tr>\n",
       "      <th>sepal_width</th>\n",
       "      <td>-0.109369</td>\n",
       "      <td>1.000000</td>\n",
       "      <td>-0.420516</td>\n",
       "      <td>-0.356544</td>\n",
       "    </tr>\n",
       "    <tr>\n",
       "      <th>petal_length</th>\n",
       "      <td>0.871754</td>\n",
       "      <td>-0.420516</td>\n",
       "      <td>1.000000</td>\n",
       "      <td>0.962757</td>\n",
       "    </tr>\n",
       "    <tr>\n",
       "      <th>petal_width</th>\n",
       "      <td>0.817954</td>\n",
       "      <td>-0.356544</td>\n",
       "      <td>0.962757</td>\n",
       "      <td>1.000000</td>\n",
       "    </tr>\n",
       "  </tbody>\n",
       "</table>\n",
       "</div>"
      ],
      "text/plain": [
       "              sepal_length  sepal_width  petal_length  petal_width\n",
       "sepal_length      1.000000    -0.109369      0.871754     0.817954\n",
       "sepal_width      -0.109369     1.000000     -0.420516    -0.356544\n",
       "petal_length      0.871754    -0.420516      1.000000     0.962757\n",
       "petal_width       0.817954    -0.356544      0.962757     1.000000"
      ]
     },
     "execution_count": 3,
     "metadata": {},
     "output_type": "execute_result"
    }
   ],
   "source": [
    "import pandas as pd \n",
    "from scipy.stats import pearsonr\n",
    "data = pd.read_csv('/Users/aniketgoyal/Documents/jupyter_notebook/HDSC Code/Module 2/Questions/iris.csv')\n",
    "data.corr(method = 'pearson')"
   ]
  }
 ],
 "metadata": {
  "kernelspec": {
   "display_name": "Python 3",
   "language": "python",
   "name": "python3"
  },
  "language_info": {
   "codemirror_mode": {
    "name": "ipython",
    "version": 3
   },
   "file_extension": ".py",
   "mimetype": "text/x-python",
   "name": "python",
   "nbconvert_exporter": "python",
   "pygments_lexer": "ipython3",
   "version": "3.8.8"
  }
 },
 "nbformat": 4,
 "nbformat_minor": 5
}
